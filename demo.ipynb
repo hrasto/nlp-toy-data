{
 "cells": [
  {
   "cell_type": "code",
   "execution_count": 1,
   "metadata": {},
   "outputs": [],
   "source": [
    "import numpy as np\n",
    "np.random.seed(1)\n",
    "import math_expressions as me"
   ]
  },
  {
   "cell_type": "code",
   "execution_count": 3,
   "metadata": {},
   "outputs": [
    {
     "name": "stdout",
     "output_type": "stream",
     "text": [
      "Test passed with 100 iterations!\n"
     ]
    }
   ],
   "source": [
    "me.nested_expression_robustness_test(100)"
   ]
  },
  {
   "cell_type": "code",
   "execution_count": 5,
   "metadata": {},
   "outputs": [
    {
     "name": "stdout",
     "output_type": "stream",
     "text": [
      "Expression:  ((-0.57)-((-5.67)/((7.09+(-2.23))+9.1)))\n",
      "Result:  -0.16383954154727787\n",
      "minus zero point sixteen\n"
     ]
    }
   ],
   "source": [
    "ex = me.generate_nested_expression()\n",
    "print(\"Expression: \", ex)\n",
    "ex_res = ex.compute()\n",
    "print(\"Result: \", ex_res)\n",
    "print(ex.to_word())"
   ]
  },
  {
   "cell_type": "code",
   "execution_count": 13,
   "metadata": {},
   "outputs": [
    {
     "name": "stdout",
     "output_type": "stream",
     "text": [
      "((((-3.37)-(-3.47))+8.96)*((-0.61)/8.94)) minus zero point sixty-two\n",
      "((0.9*(-0.61))*((-6.8)*((-5.98)/(-3.78)))) five point ninety-one\n",
      "((1.76+(-0.06))**(((-0.5)*(9.62**(1.5))))) zero\n",
      "(((-2.48)-8.22)*((4.09/(-4.77))+0.02)) eight point ninety-six\n",
      "(((4.17**((-0.5)))**(0.0))+((-9.91)-(-8.16))) minus zero point seventy-five\n",
      "((7.22/((-1.83)+((-7.29)+(-5.55))))-25.7) minus twenty-six point nineteen\n",
      "(21.94+(4.06/(((-5.23)-9.04)*(-1.0)))) twenty-two point twenty-two\n",
      "((9.22**(((-1.0)*((-1.0)+(-1.5)))))+61.62) three hundred and nineteen point seventy-four\n",
      "(((-0.61)-((1.14*(-2.27))*3.74))/68.4) zero point thirteen\n",
      "(((-3.51)/7.4)*((8.47**(0.0))+9.86)) minus five point fifteen\n",
      "\n",
      "((((-7.79)+2.42)-(2.79-4.5))/91.11) -0.04017122160026342\n",
      "(((4.84-(-6.13))**((-0.5)))/(0.74*6.57)) 0.06210114346941136\n",
      "(60.47-((0.99*(-9.87))+(6.2**(0.0)))) 69.2413\n",
      "(95.57-(((2.33-(-2.07))*6.35)**(1.0))) 67.63\n",
      "(((-7.95)**(((-0.5)-1.5)))-(0.88**(1.5))) -0.8096910147953371\n",
      "(78.87+((-2.85)**(((-0.5)-((-0.5)-0.0))))) 79.87\n",
      "(89.99+((6.65**((-0.5)))*(9.52-4.82))) 91.81258182567427\n",
      "(((-4.69)*((-1.31)-(-3.94)))*((-1.54)**(0.0))) -12.3347\n",
      "((4.38/(4.83*(-5.66)))/(2.28-8.08)) 0.027623744917041726\n",
      "(53.64**((((-0.5)/(-8.2))/(4.16+(-0.02))))) 1.0604070745626102\n"
     ]
    }
   ],
   "source": [
    "def generate_data(N=10, verbal=True, num_range=(1,100)):\n",
    "    expressions = [me.generate_nested_expression(num_range=num_range) for _ in range(N)]\n",
    "    X = [str(ex) for ex in expressions]\n",
    "    Y = [ex.to_word() if verbal else ex.compute() for ex in expressions]\n",
    "    return X, Y\n",
    "\n",
    "X, Y = generate_data()\n",
    "for x, y in zip(X, Y):\n",
    "    print(x, y)\n",
    "\n",
    "print()\n",
    "\n",
    "X, Y = generate_data(verbal=False)\n",
    "for x, y in zip(X, Y):\n",
    "    print(x, y)"
   ]
  }
 ],
 "metadata": {
  "kernelspec": {
   "display_name": "Python 3",
   "language": "python",
   "name": "python3"
  },
  "language_info": {
   "codemirror_mode": {
    "name": "ipython",
    "version": 3
   },
   "file_extension": ".py",
   "mimetype": "text/x-python",
   "name": "python",
   "nbconvert_exporter": "python",
   "pygments_lexer": "ipython3",
   "version": "3.6.8"
  }
 },
 "nbformat": 4,
 "nbformat_minor": 4
}
